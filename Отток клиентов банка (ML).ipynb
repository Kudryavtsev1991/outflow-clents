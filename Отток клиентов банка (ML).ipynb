{
 "cells": [
  {
   "cell_type": "markdown",
   "metadata": {},
   "source": [
    "Из «Бета-Банка» стали уходить клиенты. Каждый месяц. Немного, но заметно. Банковские маркетологи посчитали: сохранять текущих клиентов дешевле, чем привлекать новых.\n",
    "\n",
    "Нужно спрогнозировать, уйдёт клиент из банка в ближайшее время или нет. Нам предоставлены исторические данные о поведении клиентов и расторжении договоров с банком. \n",
    "\n",
    "Построим модель с предельно большим значением *F1*-меры. Необходимо довести метрику до 0.59. Проверим *F1*-меру на тестовой выборке.\n",
    "\n",
    "Дополнительно измерим *AUC-ROC*, сравним её значение с *F1*-мерой.\n",
    "\n",
    "Источник данных: [https://www.kaggle.com/barelydedicated/bank-customer-churn-modeling](https://www.kaggle.com/barelydedicated/bank-customer-churn-modeling)"
   ]
  },
  {
   "cell_type": "markdown",
   "metadata": {},
   "source": [
    "## Подготовка данных"
   ]
  },
  {
   "cell_type": "code",
   "execution_count": 1,
   "metadata": {},
   "outputs": [],
   "source": [
    "#импортируем требуемые библиотеки\n",
    "import pandas as pd\n",
    "from random import randrange\n",
    "from sklearn.model_selection import train_test_split\n",
    "from sklearn.metrics import accuracy_score\n",
    "from joblib import dump\n",
    "from sklearn.dummy import DummyClassifier\n",
    "import matplotlib.pyplot as plt \n",
    "from sklearn.preprocessing import StandardScaler \n",
    "from sklearn.model_selection import train_test_split\n",
    "from sklearn.utils import shuffle\n",
    "from sklearn.metrics import f1_score\n",
    "from sklearn.tree import DecisionTreeClassifier\n",
    "from sklearn.ensemble import RandomForestClassifier\n",
    "from sklearn.linear_model import LogisticRegression\n",
    "from sklearn.metrics import roc_auc_score\n",
    "from sklearn.metrics import roc_curve\n",
    "import warnings\n",
    "warnings.filterwarnings(\"ignore\")"
   ]
  },
  {
   "cell_type": "markdown",
   "metadata": {},
   "source": [
    "<div class=\"alert alert-block alert-success\">\n",
    "<b>Успех:</b> Правильное решение — выделять отдельную ячейку в начале проекта под подключение библиотек и настройки. Tак код легче поддерживать 👌\n",
    "</div>"
   ]
  },
  {
   "cell_type": "code",
   "execution_count": 2,
   "metadata": {
    "scrolled": true
   },
   "outputs": [
    {
     "data": {
      "text/html": [
       "<div>\n",
       "<style scoped>\n",
       "    .dataframe tbody tr th:only-of-type {\n",
       "        vertical-align: middle;\n",
       "    }\n",
       "\n",
       "    .dataframe tbody tr th {\n",
       "        vertical-align: top;\n",
       "    }\n",
       "\n",
       "    .dataframe thead th {\n",
       "        text-align: right;\n",
       "    }\n",
       "</style>\n",
       "<table border=\"1\" class=\"dataframe\">\n",
       "  <thead>\n",
       "    <tr style=\"text-align: right;\">\n",
       "      <th></th>\n",
       "      <th>RowNumber</th>\n",
       "      <th>CustomerId</th>\n",
       "      <th>Surname</th>\n",
       "      <th>CreditScore</th>\n",
       "      <th>Geography</th>\n",
       "      <th>Gender</th>\n",
       "      <th>Age</th>\n",
       "      <th>Tenure</th>\n",
       "      <th>Balance</th>\n",
       "      <th>NumOfProducts</th>\n",
       "      <th>HasCrCard</th>\n",
       "      <th>IsActiveMember</th>\n",
       "      <th>EstimatedSalary</th>\n",
       "      <th>Exited</th>\n",
       "    </tr>\n",
       "  </thead>\n",
       "  <tbody>\n",
       "    <tr>\n",
       "      <th>0</th>\n",
       "      <td>1</td>\n",
       "      <td>15634602</td>\n",
       "      <td>Hargrave</td>\n",
       "      <td>619</td>\n",
       "      <td>France</td>\n",
       "      <td>Female</td>\n",
       "      <td>42</td>\n",
       "      <td>2.0</td>\n",
       "      <td>0.00</td>\n",
       "      <td>1</td>\n",
       "      <td>1</td>\n",
       "      <td>1</td>\n",
       "      <td>101348.88</td>\n",
       "      <td>1</td>\n",
       "    </tr>\n",
       "    <tr>\n",
       "      <th>1</th>\n",
       "      <td>2</td>\n",
       "      <td>15647311</td>\n",
       "      <td>Hill</td>\n",
       "      <td>608</td>\n",
       "      <td>Spain</td>\n",
       "      <td>Female</td>\n",
       "      <td>41</td>\n",
       "      <td>1.0</td>\n",
       "      <td>83807.86</td>\n",
       "      <td>1</td>\n",
       "      <td>0</td>\n",
       "      <td>1</td>\n",
       "      <td>112542.58</td>\n",
       "      <td>0</td>\n",
       "    </tr>\n",
       "    <tr>\n",
       "      <th>2</th>\n",
       "      <td>3</td>\n",
       "      <td>15619304</td>\n",
       "      <td>Onio</td>\n",
       "      <td>502</td>\n",
       "      <td>France</td>\n",
       "      <td>Female</td>\n",
       "      <td>42</td>\n",
       "      <td>8.0</td>\n",
       "      <td>159660.80</td>\n",
       "      <td>3</td>\n",
       "      <td>1</td>\n",
       "      <td>0</td>\n",
       "      <td>113931.57</td>\n",
       "      <td>1</td>\n",
       "    </tr>\n",
       "    <tr>\n",
       "      <th>3</th>\n",
       "      <td>4</td>\n",
       "      <td>15701354</td>\n",
       "      <td>Boni</td>\n",
       "      <td>699</td>\n",
       "      <td>France</td>\n",
       "      <td>Female</td>\n",
       "      <td>39</td>\n",
       "      <td>1.0</td>\n",
       "      <td>0.00</td>\n",
       "      <td>2</td>\n",
       "      <td>0</td>\n",
       "      <td>0</td>\n",
       "      <td>93826.63</td>\n",
       "      <td>0</td>\n",
       "    </tr>\n",
       "    <tr>\n",
       "      <th>4</th>\n",
       "      <td>5</td>\n",
       "      <td>15737888</td>\n",
       "      <td>Mitchell</td>\n",
       "      <td>850</td>\n",
       "      <td>Spain</td>\n",
       "      <td>Female</td>\n",
       "      <td>43</td>\n",
       "      <td>2.0</td>\n",
       "      <td>125510.82</td>\n",
       "      <td>1</td>\n",
       "      <td>1</td>\n",
       "      <td>1</td>\n",
       "      <td>79084.10</td>\n",
       "      <td>0</td>\n",
       "    </tr>\n",
       "  </tbody>\n",
       "</table>\n",
       "</div>"
      ],
      "text/plain": [
       "   RowNumber  CustomerId   Surname  CreditScore Geography  Gender  Age  \\\n",
       "0          1    15634602  Hargrave          619    France  Female   42   \n",
       "1          2    15647311      Hill          608     Spain  Female   41   \n",
       "2          3    15619304      Onio          502    France  Female   42   \n",
       "3          4    15701354      Boni          699    France  Female   39   \n",
       "4          5    15737888  Mitchell          850     Spain  Female   43   \n",
       "\n",
       "   Tenure    Balance  NumOfProducts  HasCrCard  IsActiveMember  \\\n",
       "0     2.0       0.00              1          1               1   \n",
       "1     1.0   83807.86              1          0               1   \n",
       "2     8.0  159660.80              3          1               0   \n",
       "3     1.0       0.00              2          0               0   \n",
       "4     2.0  125510.82              1          1               1   \n",
       "\n",
       "   EstimatedSalary  Exited  \n",
       "0        101348.88       1  \n",
       "1        112542.58       0  \n",
       "2        113931.57       1  \n",
       "3         93826.63       0  \n",
       "4         79084.10       0  "
      ]
     },
     "execution_count": 2,
     "metadata": {},
     "output_type": "execute_result"
    }
   ],
   "source": [
    "#загрузим датасет\n",
    "data = pd.read_csv('/datasets/Churn.csv')\n",
    "data.head()"
   ]
  },
  {
   "cell_type": "code",
   "execution_count": 3,
   "metadata": {
    "scrolled": false
   },
   "outputs": [
    {
     "name": "stdout",
     "output_type": "stream",
     "text": [
      "<class 'pandas.core.frame.DataFrame'>\n",
      "RangeIndex: 10000 entries, 0 to 9999\n",
      "Data columns (total 14 columns):\n",
      " #   Column           Non-Null Count  Dtype  \n",
      "---  ------           --------------  -----  \n",
      " 0   RowNumber        10000 non-null  int64  \n",
      " 1   CustomerId       10000 non-null  int64  \n",
      " 2   Surname          10000 non-null  object \n",
      " 3   CreditScore      10000 non-null  int64  \n",
      " 4   Geography        10000 non-null  object \n",
      " 5   Gender           10000 non-null  object \n",
      " 6   Age              10000 non-null  int64  \n",
      " 7   Tenure           9091 non-null   float64\n",
      " 8   Balance          10000 non-null  float64\n",
      " 9   NumOfProducts    10000 non-null  int64  \n",
      " 10  HasCrCard        10000 non-null  int64  \n",
      " 11  IsActiveMember   10000 non-null  int64  \n",
      " 12  EstimatedSalary  10000 non-null  float64\n",
      " 13  Exited           10000 non-null  int64  \n",
      "dtypes: float64(3), int64(8), object(3)\n",
      "memory usage: 1.1+ MB\n"
     ]
    }
   ],
   "source": [
    "data.info()"
   ]
  },
  {
   "cell_type": "code",
   "execution_count": 4,
   "metadata": {},
   "outputs": [
    {
     "data": {
      "text/plain": [
       "array([ 2.,  1.,  8.,  7.,  4.,  6.,  3., 10.,  5.,  9.,  0., nan])"
      ]
     },
     "execution_count": 4,
     "metadata": {},
     "output_type": "execute_result"
    }
   ],
   "source": [
    "data['Tenure'].unique()"
   ]
  },
  {
   "cell_type": "markdown",
   "metadata": {},
   "source": [
    "Как мы видим  имеются пропуски в столбце \"Tenure\" и они составляют около 10% от датасета. Заменим пропуски случайными значениями продолжительности использования клтентами банковскими услугами"
   ]
  },
  {
   "cell_type": "code",
   "execution_count": 5,
   "metadata": {},
   "outputs": [],
   "source": [
    "#заполним пропуски случайными значениями от 0 до 10\n",
    "data['Tenure']=data['Tenure'].fillna(randrange(0, 10, 1))"
   ]
  },
  {
   "cell_type": "markdown",
   "metadata": {},
   "source": [
    "## Исследование задачи"
   ]
  },
  {
   "cell_type": "markdown",
   "metadata": {},
   "source": [
    "Исследуем распределение частоты критерия по признакам. "
   ]
  },
  {
   "cell_type": "code",
   "execution_count": 6,
   "metadata": {
    "scrolled": false
   },
   "outputs": [
    {
     "data": {
      "image/png": "[encoded data removed]",
      "text/plain": [
       "<Figure size 432x288 with 1 Axes>"
      ]
     },
     "metadata": {
      "needs_background": "light"
     },
     "output_type": "display_data"
    }
   ],
   "source": [
    "data['Exited'].hist()\n",
    "plt.title('Частота отказа клиента от услуг банка')\n",
    "plt.xlabel('Критерий потерий клиента')\n",
    "plt.ylabel('Частота');"
   ]
  },
  {
   "cell_type": "code",
   "execution_count": 7,
   "metadata": {},
   "outputs": [
    {
     "data": {
      "text/plain": [
       "0    7963\n",
       "1    2037\n",
       "Name: Exited, dtype: int64"
      ]
     },
     "execution_count": 7,
     "metadata": {},
     "output_type": "execute_result"
    }
   ],
   "source": [
    "data['Exited'].value_counts()"
   ]
  },
  {
   "cell_type": "markdown",
   "metadata": {},
   "source": [
    "Как мы видим, что распределение предельно неравнозначно (положительных результатов в 4 раза меньше)."
   ]
  },
  {
   "cell_type": "markdown",
   "metadata": {},
   "source": [
    "## Борьба с дисбалансом"
   ]
  },
  {
   "cell_type": "markdown",
   "metadata": {},
   "source": [
    "### Метод увеличения выборки"
   ]
  },
  {
   "cell_type": "markdown",
   "metadata": {},
   "source": [
    "Исключим признаки с номером строки, id клиента и фамилию."
   ]
  },
  {
   "cell_type": "code",
   "execution_count": 8,
   "metadata": {},
   "outputs": [],
   "source": [
    "data_ohe = data.drop(['RowNumber','CustomerId','Surname'], axis=1)"
   ]
  },
  {
   "cell_type": "markdown",
   "metadata": {},
   "source": [
    "Ввиду того, что данные содержат как численные, так и категориальные признак, необходимо преобразовать данные. Применим метод прямого кодирования (OHE), следующим шагом сбалансируем данные в части объёма по признаку факта ухода клиента и завершим стандартизацией значений."
   ]
  },
  {
   "cell_type": "code",
   "execution_count": 9,
   "metadata": {},
   "outputs": [],
   "source": [
    "data_ohe = pd.get_dummies(data_ohe, drop_first=True)\n",
    "target = data_ohe['Exited']\n",
    "features = data_ohe.drop(['Exited'], axis=1)"
   ]
  },
  {
   "cell_type": "markdown",
   "metadata": {},
   "source": [
    "Разобьём выборку данных на обучающую, валидационную и тестовую."
   ]
  },
  {
   "cell_type": "code",
   "execution_count": 10,
   "metadata": {
    "scrolled": true
   },
   "outputs": [
    {
     "name": "stdout",
     "output_type": "stream",
     "text": [
      "features_train (6000, 11)\n",
      "features_valid (2000, 11)\n",
      "features_test (2000, 11)\n",
      "target_train (6000,)\n",
      "target_valid (2000,)\n",
      "target_test (2000,)\n"
     ]
    }
   ],
   "source": [
    "features_train_1, features_valid_1, target_train_1, target_valid_1 = train_test_split(\n",
    "    features, target, test_size=0.4, random_state=12345)\n",
    "\n",
    "features_test_1, features_valid_1, target_test_1, target_valid_1 = train_test_split(\n",
    "    features_valid_1, target_valid_1, test_size=0.5, random_state=123)\n",
    "\n",
    "print('features_train',features_train_1.shape)\n",
    "print('features_valid',features_valid_1.shape)\n",
    "print('features_test',features_test_1.shape)\n",
    "print('target_train',target_train_1.shape)\n",
    "print('target_valid',target_valid_1.shape)\n",
    "print('target_test',target_test_1.shape)"
   ]
  },
  {
   "cell_type": "markdown",
   "metadata": {},
   "source": [
    "Напишем функцию для уравнивания и перемешивания данных при дисбалансе методом увеличения целевых значений с результатом 1."
   ]
  },
  {
   "cell_type": "code",
   "execution_count": 11,
   "metadata": {},
   "outputs": [],
   "source": [
    "def upsample(features, target, repeat):\n",
    "    features_zeros = features[target == 0]\n",
    "    features_ones = features[target == 1]\n",
    "    target_zeros = target[target == 0]\n",
    "    target_ones = target[target == 1]\n",
    "\n",
    "    features_upsampled = pd.concat([features_zeros] + [features_ones] * repeat)\n",
    "    target_upsampled = pd.concat([target_zeros] + [target_ones] * repeat)\n",
    "    \n",
    "    features_upsampled, target_upsampled = shuffle(\n",
    "        features_upsampled, target_upsampled, random_state=12345)\n",
    "    \n",
    "    return features_upsampled, target_upsampled\n",
    "\n",
    "features_train_1, target_train_1 = upsample(features_train_1, target_train_1, 4)"
   ]
  },
  {
   "cell_type": "code",
   "execution_count": 12,
   "metadata": {
    "scrolled": true
   },
   "outputs": [
    {
     "data": {
      "text/plain": [
       "0    4804\n",
       "1    4784\n",
       "Name: Exited, dtype: int64"
      ]
     },
     "execution_count": 12,
     "metadata": {},
     "output_type": "execute_result"
    }
   ],
   "source": [
    "target_train_1.value_counts()"
   ]
  },
  {
   "cell_type": "markdown",
   "metadata": {},
   "source": [
    "Как мы видим баланс практически идеально соблюдён."
   ]
  },
  {
   "cell_type": "markdown",
   "metadata": {},
   "source": [
    "Стандартизируем числовые данные, для исключения веса каждого из них в обучении модели:"
   ]
  },
  {
   "cell_type": "code",
   "execution_count": 13,
   "metadata": {},
   "outputs": [],
   "source": [
    "numeric = ['CreditScore', \n",
    "           'Age',\n",
    "           'Tenure',\n",
    "           'Balance',\n",
    "           'NumOfProducts',\n",
    "           'HasCrCard',\n",
    "           'IsActiveMember',\n",
    "           'EstimatedSalary']\n",
    "scaler = StandardScaler()\n",
    "scaler.fit(features_train_1[numeric])\n",
    "features_train_1[numeric] = scaler.transform(features_train_1[numeric])\n",
    "features_valid_1[numeric] = scaler.transform(features_valid_1[numeric])\n",
    "features_test_1[numeric] = scaler.transform(features_test_1[numeric])"
   ]
  },
  {
   "cell_type": "markdown",
   "metadata": {},
   "source": [
    "Обучим модель методом логистической регрессии для последующего сравнения с ней."
   ]
  },
  {
   "cell_type": "code",
   "execution_count": 14,
   "metadata": {},
   "outputs": [
    {
     "name": "stdout",
     "output_type": "stream",
     "text": [
      "AUC-ROC: 0.7484271584627433\n",
      "F1: 0.47807394668959596\n"
     ]
    }
   ],
   "source": [
    "model_1 = LogisticRegression(random_state=12345, solver='liblinear')\n",
    "model_1.fit(features_train_1, target_train_1)\n",
    "predicted_valid_1 = model_1.predict(features_valid_1)\n",
    "probabilities_valid_1 = model_1.predict_proba(features_valid_1)\n",
    "probabilities_one_valid_1 = probabilities_valid_1[:, 1]\n",
    "\n",
    "print('AUC-ROC:', roc_auc_score(target_valid_1,probabilities_one_valid_1))\n",
    "print('F1:', f1_score(target_valid_1,predicted_valid_1))"
   ]
  },
  {
   "cell_type": "markdown",
   "metadata": {},
   "source": [
    "Оценим качество модели методом случайного леса с перебором глубины модели от 1 до 20 с шагом 1."
   ]
  },
  {
   "cell_type": "code",
   "execution_count": 15,
   "metadata": {
    "scrolled": false
   },
   "outputs": [
    {
     "name": "stdout",
     "output_type": "stream",
     "text": [
      "Глубина 1 0.5393939393939393\n",
      "Глубина 2 0.5436179981634527\n",
      "Глубина 3 0.5615023474178403\n",
      "Глубина 4 0.5903257650542942\n",
      "Глубина 5 0.591044776119403\n",
      "Глубина 6 0.5900000000000001\n",
      "Глубина 7 0.5983772819472617\n",
      "Глубина 8 0.6042726347914547\n",
      "Глубина 9 0.6114649681528663\n",
      "Глубина 10 0.593311758360302\n",
      "Глубина 11 0.6022222222222222\n",
      "Глубина 12 0.593607305936073\n",
      "Глубина 13 0.5971563981042655\n",
      "Глубина 14 0.5973715651135006\n",
      "Глубина 15 0.5767790262172284\n",
      "Глубина 16 0.5952677459526775\n",
      "Глубина 17 0.5833333333333334\n",
      "Глубина 18 0.5770750988142292\n",
      "Глубина 19 0.5822454308093995\n",
      "Глубина 20 0.5785340314136125\n"
     ]
    }
   ],
   "source": [
    "for depth in range(1, 21, 1):\n",
    "    model_1 = RandomForestClassifier(n_estimators=20, max_depth=depth, random_state=12345)\n",
    "    model_1.fit(features_train_1, target_train_1)\n",
    "    predicted_valid_1 = model_1.predict(features_valid_1)\n",
    "    print(\"Глубина\",depth, f1_score(target_valid_1, predicted_valid_1))"
   ]
  },
  {
   "cell_type": "markdown",
   "metadata": {},
   "source": [
    "Оценим качество модели методом случайного леса с глубиной 9 (как самая эффективная) и перебором количества деревьев от 40 до 200 с шагом 20."
   ]
  },
  {
   "cell_type": "code",
   "execution_count": 29,
   "metadata": {},
   "outputs": [
    {
     "name": "stdout",
     "output_type": "stream",
     "text": [
      "Количество деревьев 40 0.6050420168067228\n",
      "Количество деревьев 60 0.5980911983032874\n",
      "Количество деревьев 80 0.5970464135021096\n",
      "Количество деревьев 100 0.6063157894736843\n",
      "Количество деревьев 120 0.6037735849056605\n",
      "Количество деревьев 140 0.6014721345951629\n",
      "Количество деревьев 160 0.6027397260273973\n",
      "Количество деревьев 180 0.6033755274261603\n",
      "Количество деревьев 200 0.6071428571428573\n"
     ]
    }
   ],
   "source": [
    "for estimators in range(40, 220, 20):\n",
    "    model_1 = RandomForestClassifier(n_estimators=estimators, max_depth=9, random_state=12345)\n",
    "    model_1.fit(features_train_1, target_train_1)\n",
    "    predicted_valid_1 = model_1.predict(features_valid_1)\n",
    "    print(\"Количество деревьев\",estimators, f1_score(target_valid_1, predicted_valid_1))"
   ]
  },
  {
   "cell_type": "markdown",
   "metadata": {},
   "source": [
    "Как видим лучшие показатели у модели с количеством деревьев равным 40."
   ]
  },
  {
   "cell_type": "code",
   "execution_count": 30,
   "metadata": {
    "scrolled": false
   },
   "outputs": [
    {
     "name": "stdout",
     "output_type": "stream",
     "text": [
      "AUC-ROC: 0.8559030223704801\n",
      "F1: 0.6050420168067228\n"
     ]
    }
   ],
   "source": [
    "model_1 = RandomForestClassifier(n_estimators=40, max_depth=9, random_state=12345)\n",
    "model_1.fit(features_train_1, target_train_1)\n",
    "predicted_valid_1 = model_1.predict(features_valid_1)\n",
    "probabilities_valid_1 = model_1.predict_proba(features_valid_1)\n",
    "probabilities_one_valid_1 = probabilities_valid_1[:, 1]\n",
    "print('AUC-ROC:', roc_auc_score(target_valid_1,probabilities_one_valid_1))\n",
    "print('F1:', f1_score(target_valid_1,predicted_valid_1))"
   ]
  },
  {
   "cell_type": "markdown",
   "metadata": {},
   "source": [
    "Итого лучшие результаты показала модель с гиперпараметрами глубины равной 9 и количеством деревьев равным 40."
   ]
  },
  {
   "cell_type": "markdown",
   "metadata": {},
   "source": [
    "Оценим как себя показывает метод древа решений."
   ]
  },
  {
   "cell_type": "code",
   "execution_count": 31,
   "metadata": {},
   "outputs": [
    {
     "name": "stdout",
     "output_type": "stream",
     "text": [
      "Точность лучшей модели с глубиной 5 : 0.5795574288724973\n"
     ]
    }
   ],
   "source": [
    "best_model_1 = None\n",
    "best_result_1 = 0\n",
    "best_depth_1 = 0\n",
    "for depth in range(1, 20):\n",
    "    model_tree = DecisionTreeClassifier(random_state=123, max_depth=depth) \n",
    "    model_tree.fit(features_train_1,target_train_1) \n",
    "    predictions_1 = model_tree.predict(features_valid_1) \n",
    "    result = f1_score(target_valid_1,predictions_1)\n",
    "    if result > best_result_1:\n",
    "        best_model_1 = model_tree\n",
    "        best_result_1 = result\n",
    "        best_depth_1 = depth\n",
    "print(\"Точность лучшей модели с глубиной\", best_depth_1, \":\", best_result_1)"
   ]
  },
  {
   "cell_type": "markdown",
   "metadata": {},
   "source": [
    "Итого следует отметить, что в случае обучения с использованием метода борьбы с дисбалансом расширения выборки лучший результат показал метод случайного леса с гиперпараметрами глубины 9 и количеством деревьев 40."
   ]
  },
  {
   "cell_type": "markdown",
   "metadata": {},
   "source": [
    "### Метод уменьшения выборки"
   ]
  },
  {
   "cell_type": "markdown",
   "metadata": {},
   "source": [
    "Повторно разобьём выборку данных на обучающую, валидационную и тестовую."
   ]
  },
  {
   "cell_type": "code",
   "execution_count": 19,
   "metadata": {},
   "outputs": [
    {
     "name": "stdout",
     "output_type": "stream",
     "text": [
      "features_train (6000, 11)\n",
      "features_valid (2000, 11)\n",
      "features_test (2000, 11)\n",
      "target_train (6000,)\n",
      "target_valid (2000,)\n",
      "target_test (2000,)\n"
     ]
    }
   ],
   "source": [
    "features_train_2, features_valid_2, target_train_2, target_valid_2 = train_test_split(\n",
    "    features, target, test_size=0.4, random_state=12345)\n",
    "\n",
    "features_test_2, features_valid_2, target_test_2, target_valid_2 = train_test_split(\n",
    "    features_valid_2, target_valid_2, test_size=0.5, random_state=123)\n",
    "\n",
    "print('features_train',features_train_2.shape)\n",
    "print('features_valid',features_valid_2.shape)\n",
    "print('features_test',features_test_2.shape)\n",
    "print('target_train',target_train_2.shape)\n",
    "print('target_valid',target_valid_2.shape)\n",
    "print('target_test',target_test_2.shape)"
   ]
  },
  {
   "cell_type": "markdown",
   "metadata": {},
   "source": [
    "Напишем функцию для уравнивания и перемешивания данных при дисбалансе методом снижения целевых значений с результатом 0."
   ]
  },
  {
   "cell_type": "code",
   "execution_count": 20,
   "metadata": {},
   "outputs": [],
   "source": [
    "def downsample(features, target, fraction):\n",
    "    features_zeros = features[target == 0]\n",
    "    features_ones = features[target == 1]\n",
    "    target_zeros = target[target == 0]\n",
    "    target_ones = target[target == 1]\n",
    "\n",
    "    features_downsampled = pd.concat(\n",
    "        [features_zeros.sample(frac=fraction, random_state=12345)] + [features_ones])\n",
    "    target_downsampled = pd.concat(\n",
    "        [target_zeros.sample(frac=fraction, random_state=12345)] + [target_ones])\n",
    "    \n",
    "    features_downsampled, target_downsampled = shuffle(\n",
    "        features_downsampled, target_downsampled, random_state=12345)\n",
    "    \n",
    "    return features_downsampled, target_downsampled\n",
    "\n",
    "features_train_2, target_train_2 = downsample(features_train_2, target_train_2, 0.25)"
   ]
  },
  {
   "cell_type": "code",
   "execution_count": 21,
   "metadata": {
    "scrolled": true
   },
   "outputs": [
    {
     "data": {
      "text/plain": [
       "0    1201\n",
       "1    1196\n",
       "Name: Exited, dtype: int64"
      ]
     },
     "execution_count": 21,
     "metadata": {},
     "output_type": "execute_result"
    }
   ],
   "source": [
    "target_train_2.value_counts()"
   ]
  },
  {
   "cell_type": "markdown",
   "metadata": {},
   "source": [
    "Как мы видим баланс соблюдён."
   ]
  },
  {
   "cell_type": "markdown",
   "metadata": {},
   "source": [
    "Стандартизируем числовые данные, для исключения веса каждого из них в обучении модели:"
   ]
  },
  {
   "cell_type": "code",
   "execution_count": 22,
   "metadata": {},
   "outputs": [],
   "source": [
    "numeric = ['CreditScore', \n",
    "           'Age',\n",
    "           'Tenure',\n",
    "           'Balance',\n",
    "           'NumOfProducts',\n",
    "           'HasCrCard',\n",
    "           'IsActiveMember',\n",
    "           'EstimatedSalary']\n",
    "scaler = StandardScaler()\n",
    "scaler.fit(features_train_2[numeric])\n",
    "features_train_2[numeric] = scaler.transform(features_train_2[numeric])\n",
    "features_valid_2[numeric] = scaler.transform(features_valid_2[numeric])\n",
    "features_test_2[numeric] = scaler.transform(features_test_2[numeric])"
   ]
  },
  {
   "cell_type": "markdown",
   "metadata": {},
   "source": [
    "Обучим модель методом логистической регрессии для последующего сравнения с ней."
   ]
  },
  {
   "cell_type": "code",
   "execution_count": 23,
   "metadata": {},
   "outputs": [
    {
     "name": "stdout",
     "output_type": "stream",
     "text": [
      "AUC-ROC: 0.7473152242577384\n",
      "F1: 0.47986289631533846\n"
     ]
    }
   ],
   "source": [
    "model_2 = LogisticRegression(random_state=12345, solver='liblinear')\n",
    "model_2.fit(features_train_2, target_train_2)\n",
    "predicted_valid_2 = model_2.predict(features_valid_2)\n",
    "probabilities_valid_2 = model_2.predict_proba(features_valid_2)\n",
    "probabilities_one_valid_2 = probabilities_valid_2[:, 1]\n",
    "\n",
    "print('AUC-ROC:', roc_auc_score(target_valid_2,probabilities_one_valid_2))\n",
    "print('F1:', f1_score(target_valid_2,predicted_valid_2))"
   ]
  },
  {
   "cell_type": "markdown",
   "metadata": {},
   "source": [
    "Оценим качество модели методом случайного леса с перебором глубины модели от 1 до 20 с шагом 1."
   ]
  },
  {
   "cell_type": "code",
   "execution_count": 24,
   "metadata": {
    "scrolled": false
   },
   "outputs": [
    {
     "name": "stdout",
     "output_type": "stream",
     "text": [
      "Глубина 1 0.5501379944802207\n",
      "Глубина 2 0.5493934142114385\n",
      "Глубина 3 0.5532286212914486\n",
      "Глубина 4 0.5708920187793427\n",
      "Глубина 5 0.5852749301025162\n",
      "Глубина 6 0.5771689497716895\n",
      "Глубина 7 0.5778611632270169\n",
      "Глубина 8 0.5855513307984791\n",
      "Глубина 9 0.5727969348659004\n",
      "Глубина 10 0.5609532538955087\n",
      "Глубина 11 0.5687558465855941\n",
      "Глубина 12 0.5655042412818095\n",
      "Глубина 13 0.5570093457943925\n",
      "Глубина 14 0.5474452554744524\n",
      "Глубина 15 0.5631970260223048\n",
      "Глубина 16 0.5546218487394958\n",
      "Глубина 17 0.5552353506243995\n",
      "Глубина 18 0.560303893637227\n",
      "Глубина 19 0.5523809523809523\n",
      "Глубина 20 0.5578747628083491\n"
     ]
    }
   ],
   "source": [
    "for depth in range(1, 21, 1):\n",
    "    model_2 = RandomForestClassifier(n_estimators=20, max_depth=depth, random_state=12345)\n",
    "    model_2.fit(features_train_2, target_train_2)\n",
    "    predicted_valid_2 = model_2.predict(features_valid_2)\n",
    "    print(\"Глубина\",depth, f1_score(target_valid_2, predicted_valid_2))"
   ]
  },
  {
   "cell_type": "markdown",
   "metadata": {},
   "source": [
    "Как видим наилучшие показатели в случае глубины равной 8."
   ]
  },
  {
   "cell_type": "code",
   "execution_count": 32,
   "metadata": {
    "scrolled": false
   },
   "outputs": [
    {
     "name": "stdout",
     "output_type": "stream",
     "text": [
      "Количество деревьев 20 0.5855513307984791\n",
      "Количество деревьев 40 0.5796831314072692\n",
      "Количество деревьев 60 0.5932203389830508\n",
      "Количество деревьев 80 0.5915492957746479\n",
      "Количество деревьев 100 0.592662276575729\n",
      "Количество деревьев 120 0.5891181988742964\n",
      "Количество деревьев 140 0.5946969696969696\n",
      "Количество деревьев 160 0.5975494816211122\n",
      "Количество деревьев 180 0.5913370998116761\n",
      "Количество деревьев 200 0.5883458646616542\n"
     ]
    }
   ],
   "source": [
    "for estimators in range(20, 220, 20):\n",
    "    model_2 = RandomForestClassifier(n_estimators=estimators, max_depth=8, random_state=12345)\n",
    "    model_2.fit(features_train_2, target_train_2)\n",
    "    predicted_valid_2 = model_2.predict(features_valid_2)\n",
    "    print(\"Количество деревьев\",estimators, f1_score(target_valid_2, predicted_valid_2))"
   ]
  },
  {
   "cell_type": "markdown",
   "metadata": {},
   "source": [
    "Лучший результат с количеством деревьев 160 и глубиной 8."
   ]
  },
  {
   "cell_type": "markdown",
   "metadata": {},
   "source": [
    "Оценим как себя показывает метод древа решений."
   ]
  },
  {
   "cell_type": "code",
   "execution_count": 26,
   "metadata": {},
   "outputs": [
    {
     "name": "stdout",
     "output_type": "stream",
     "text": [
      "Точность лучшей модели с глубиной 5 : 0.5795574288724973\n"
     ]
    }
   ],
   "source": [
    "best_model_2 = None\n",
    "best_result_2 = 0\n",
    "best_depth_2 = 0\n",
    "for depth in range(1, 20):\n",
    "    model_tree = DecisionTreeClassifier(random_state=123, max_depth=depth) \n",
    "    model_tree.fit(features_train_2,target_train_2) \n",
    "    predictions_2 = model_tree.predict(features_valid_2) \n",
    "    result = f1_score(target_valid_2,predictions_2)\n",
    "    if result > best_result_2:\n",
    "        best_model_2 = model_tree\n",
    "        best_result_2 = result\n",
    "        best_depth_2 = depth\n",
    "print(\"Точность лучшей модели с глубиной\", best_depth_1, \":\", best_result_1)"
   ]
  },
  {
   "cell_type": "markdown",
   "metadata": {},
   "source": [
    "Итого с что в случае обучения с использованием метода борьбы с дисбалансом уменьшения выборки лучший результат также показал метод случайного леса с гиперпараметрами глубины 8 и количеством деревьев 160, но несколько худший нежели в случае с увеличением выборки."
   ]
  },
  {
   "cell_type": "markdown",
   "metadata": {},
   "source": [
    "## Тестирование модели"
   ]
  },
  {
   "cell_type": "markdown",
   "metadata": {},
   "source": [
    "Проверим качество обученной моделм на тестовой выборке данных:"
   ]
  },
  {
   "cell_type": "code",
   "execution_count": 27,
   "metadata": {
    "scrolled": true
   },
   "outputs": [
    {
     "name": "stdout",
     "output_type": "stream",
     "text": [
      "AUC-ROC: 0.8477591346614308\n",
      "F1: 0.6182669789227166\n"
     ]
    }
   ],
   "source": [
    "predicted_test = model_1.predict(features_test_1)\n",
    "probabilities_test = model_1.predict_proba(features_test_1)\n",
    "probabilities_one_test = probabilities_test[:, 1]\n",
    "print('AUC-ROC:', roc_auc_score(target_test_1,probabilities_one_test))\n",
    "print('F1:', f1_score(target_test_1,predicted_test))"
   ]
  },
  {
   "cell_type": "markdown",
   "metadata": {},
   "source": [
    "Построим ROC-кривую для логистической регрессии и для наглядности также построим график ROC-кривой случайной модели"
   ]
  },
  {
   "cell_type": "code",
   "execution_count": 28,
   "metadata": {
    "scrolled": false
   },
   "outputs": [
    {
     "data": {
      "image/png": "[encoded data removed]",
      "text/plain": [
       "<Figure size 432x288 with 1 Axes>"
      ]
     },
     "metadata": {
      "needs_background": "light"
     },
     "output_type": "display_data"
    }
   ],
   "source": [
    "fpr, tpr, thresholds = roc_curve(target_test_1, probabilities_one_test) \n",
    "\n",
    "plt.figure()\n",
    "plt.plot(fpr, tpr)\n",
    "plt.plot([0, 1], [0, 1], linestyle='--')\n",
    "\n",
    "plt.xlim([0.0, 1.0])\n",
    "plt.ylim([0.0, 1.0])\n",
    "plt.xlabel('False Positive Rate')\n",
    "plt.ylabel('True Positive Rate')\n",
    "plt.title('ROC-кривая')\n",
    "plt.show() "
   ]
  },
  {
   "cell_type": "markdown",
   "metadata": {},
   "source": [
    "Как видим из графика результат обученной модели показывает хорошие результаты."
   ]
  },
  {
   "cell_type": "markdown",
   "metadata": {},
   "source": [
    "Резюмирую можно сказать, что прогнозная модель обучена и позволит решить задачу банка, а именно:\n",
    "\n",
    "- Предсказать клиентов, которые в будующем могут отказаться от услуг банка\n",
    "- Необходимо проанализировать зависимость и общие черты отобранных клиентов и оценить факторы на которые может повлиять банк, а именно проявить некоторую лояльность (сниженные ставки, особые условия обслуживания с персональным менеджером и т.д.)"
   ]
  }
 ],
 "metadata": {
  "ExecuteTimeLog": [
   {
    "duration": 62,
    "start_time": "2022-06-02T13:13:50.663Z"
   },
   {
    "duration": 1048,
    "start_time": "2022-06-02T13:13:52.761Z"
   },
   {
    "duration": 99,
    "start_time": "2022-06-02T13:13:53.811Z"
   },
   {
    "duration": 603,
    "start_time": "2022-06-02T13:14:43.812Z"
   },
   {
    "duration": 54,
    "start_time": "2022-06-02T13:14:45.399Z"
   },
   {
    "duration": 88,
    "start_time": "2022-06-02T13:15:27.194Z"
   },
   {
    "duration": 18,
    "start_time": "2022-06-02T13:16:12.485Z"
   },
   {
    "duration": 5,
    "start_time": "2022-06-02T13:17:01.855Z"
   },
   {
    "duration": 73,
    "start_time": "2022-06-02T13:18:49.205Z"
   },
   {
    "duration": 298,
    "start_time": "2022-06-02T13:19:14.213Z"
   },
   {
    "duration": 6,
    "start_time": "2022-06-02T13:20:20.344Z"
   },
   {
    "duration": 5,
    "start_time": "2022-06-02T13:23:17.019Z"
   },
   {
    "duration": 14,
    "start_time": "2022-06-02T13:23:24.927Z"
   },
   {
    "duration": 18,
    "start_time": "2022-06-02T13:23:34.287Z"
   },
   {
    "duration": 1202,
    "start_time": "2022-06-02T13:23:40.545Z"
   },
   {
    "duration": 142,
    "start_time": "2022-06-02T13:23:41.749Z"
   },
   {
    "duration": 13,
    "start_time": "2022-06-02T13:23:41.896Z"
   },
   {
    "duration": 4,
    "start_time": "2022-06-02T13:23:41.911Z"
   },
   {
    "duration": 17,
    "start_time": "2022-06-02T13:23:41.917Z"
   },
   {
    "duration": 195,
    "start_time": "2022-06-02T13:23:41.936Z"
   },
   {
    "duration": 6,
    "start_time": "2022-06-02T13:23:42.132Z"
   },
   {
    "duration": 16,
    "start_time": "2022-06-02T13:23:42.140Z"
   },
   {
    "duration": 345,
    "start_time": "2022-06-02T13:35:49.911Z"
   },
   {
    "duration": 34,
    "start_time": "2022-06-02T13:43:14.074Z"
   },
   {
    "duration": 127,
    "start_time": "2022-06-02T13:46:16.189Z"
   },
   {
    "duration": 607,
    "start_time": "2022-06-02T13:46:19.996Z"
   },
   {
    "duration": 1210,
    "start_time": "2022-06-02T13:46:26.223Z"
   },
   {
    "duration": 129,
    "start_time": "2022-06-02T13:46:27.435Z"
   },
   {
    "duration": 25,
    "start_time": "2022-06-02T13:46:27.567Z"
   },
   {
    "duration": 5,
    "start_time": "2022-06-02T13:46:27.594Z"
   },
   {
    "duration": 172,
    "start_time": "2022-06-02T13:46:27.601Z"
   },
   {
    "duration": 19,
    "start_time": "2022-06-02T13:46:27.775Z"
   },
   {
    "duration": 138,
    "start_time": "2022-06-02T13:46:27.796Z"
   },
   {
    "duration": 0,
    "start_time": "2022-06-02T13:46:27.935Z"
   },
   {
    "duration": 0,
    "start_time": "2022-06-02T13:46:27.937Z"
   },
   {
    "duration": 5,
    "start_time": "2022-06-02T13:46:43.756Z"
   },
   {
    "duration": 14,
    "start_time": "2022-06-02T13:46:45.592Z"
   },
   {
    "duration": 5,
    "start_time": "2022-06-02T13:47:27.764Z"
   },
   {
    "duration": 15,
    "start_time": "2022-06-02T13:47:33.362Z"
   },
   {
    "duration": 23,
    "start_time": "2022-06-02T13:47:54.443Z"
   },
   {
    "duration": 6,
    "start_time": "2022-06-02T13:48:31.453Z"
   },
   {
    "duration": 280,
    "start_time": "2022-06-02T13:57:19.907Z"
   },
   {
    "duration": 212,
    "start_time": "2022-06-02T13:57:20.682Z"
   },
   {
    "duration": 7,
    "start_time": "2022-06-02T13:57:22.306Z"
   },
   {
    "duration": 125,
    "start_time": "2022-06-02T13:59:45.492Z"
   },
   {
    "duration": 152,
    "start_time": "2022-06-02T14:00:30.123Z"
   },
   {
    "duration": 18,
    "start_time": "2022-06-02T14:02:40.158Z"
   },
   {
    "duration": 577,
    "start_time": "2022-06-02T14:03:54.668Z"
   },
   {
    "duration": 713,
    "start_time": "2022-06-02T14:04:00.309Z"
   },
   {
    "duration": 1314,
    "start_time": "2022-06-02T14:04:08.760Z"
   },
   {
    "duration": 60,
    "start_time": "2022-06-02T14:04:10.076Z"
   },
   {
    "duration": 20,
    "start_time": "2022-06-02T14:04:10.139Z"
   },
   {
    "duration": 5,
    "start_time": "2022-06-02T14:04:10.160Z"
   },
   {
    "duration": 247,
    "start_time": "2022-06-02T14:04:10.167Z"
   },
   {
    "duration": 6,
    "start_time": "2022-06-02T14:04:10.416Z"
   },
   {
    "duration": 157,
    "start_time": "2022-06-02T14:04:10.423Z"
   },
   {
    "duration": 0,
    "start_time": "2022-06-02T14:04:10.582Z"
   },
   {
    "duration": 0,
    "start_time": "2022-06-02T14:04:10.583Z"
   },
   {
    "duration": 0,
    "start_time": "2022-06-02T14:04:10.585Z"
   },
   {
    "duration": 0,
    "start_time": "2022-06-02T14:04:10.586Z"
   },
   {
    "duration": 0,
    "start_time": "2022-06-02T14:04:10.587Z"
   },
   {
    "duration": 38,
    "start_time": "2022-06-02T14:04:21.173Z"
   },
   {
    "duration": 11,
    "start_time": "2022-06-02T14:04:50.371Z"
   },
   {
    "duration": 277,
    "start_time": "2022-06-02T14:04:56.158Z"
   },
   {
    "duration": 218,
    "start_time": "2022-06-02T14:04:57.066Z"
   },
   {
    "duration": 6,
    "start_time": "2022-06-02T14:04:57.643Z"
   },
   {
    "duration": 153,
    "start_time": "2022-06-02T14:04:58.826Z"
   },
   {
    "duration": 19,
    "start_time": "2022-06-02T14:05:01.626Z"
   },
   {
    "duration": 22,
    "start_time": "2022-06-02T14:07:22.811Z"
   },
   {
    "duration": 20,
    "start_time": "2022-06-02T14:12:16.068Z"
   },
   {
    "duration": 39,
    "start_time": "2022-06-02T14:12:26.557Z"
   },
   {
    "duration": 249,
    "start_time": "2022-06-02T14:12:32.394Z"
   },
   {
    "duration": 5,
    "start_time": "2022-06-02T14:12:32.940Z"
   },
   {
    "duration": 15,
    "start_time": "2022-06-02T14:12:54.293Z"
   },
   {
    "duration": 4,
    "start_time": "2022-06-02T14:13:14.019Z"
   },
   {
    "duration": 23,
    "start_time": "2022-06-02T14:13:19.397Z"
   },
   {
    "duration": 72,
    "start_time": "2022-06-02T14:13:26.276Z"
   },
   {
    "duration": 47,
    "start_time": "2022-06-02T14:13:49.236Z"
   },
   {
    "duration": 20,
    "start_time": "2022-06-02T14:13:56.579Z"
   },
   {
    "duration": 1225,
    "start_time": "2022-06-02T14:14:04.193Z"
   },
   {
    "duration": 62,
    "start_time": "2022-06-02T14:14:05.420Z"
   },
   {
    "duration": 13,
    "start_time": "2022-06-02T14:14:05.484Z"
   },
   {
    "duration": 5,
    "start_time": "2022-06-02T14:14:05.499Z"
   },
   {
    "duration": 309,
    "start_time": "2022-06-02T14:14:05.506Z"
   },
   {
    "duration": 6,
    "start_time": "2022-06-02T14:14:05.816Z"
   },
   {
    "duration": 19,
    "start_time": "2022-06-02T14:14:05.824Z"
   },
   {
    "duration": 127,
    "start_time": "2022-06-02T14:14:05.844Z"
   },
   {
    "duration": 0,
    "start_time": "2022-06-02T14:14:05.973Z"
   },
   {
    "duration": 0,
    "start_time": "2022-06-02T14:14:05.979Z"
   },
   {
    "duration": 0,
    "start_time": "2022-06-02T14:14:05.980Z"
   },
   {
    "duration": 0,
    "start_time": "2022-06-02T14:14:05.982Z"
   },
   {
    "duration": 0,
    "start_time": "2022-06-02T14:14:05.983Z"
   },
   {
    "duration": 274,
    "start_time": "2022-06-02T14:14:41.213Z"
   },
   {
    "duration": 256,
    "start_time": "2022-06-02T14:14:42.277Z"
   },
   {
    "duration": 6,
    "start_time": "2022-06-02T14:14:43.118Z"
   },
   {
    "duration": 257,
    "start_time": "2022-06-02T14:14:52.835Z"
   },
   {
    "duration": 200,
    "start_time": "2022-06-02T14:14:53.125Z"
   },
   {
    "duration": 6,
    "start_time": "2022-06-02T14:14:53.604Z"
   },
   {
    "duration": 139,
    "start_time": "2022-06-02T14:14:54.557Z"
   },
   {
    "duration": 56,
    "start_time": "2022-06-02T14:14:55.715Z"
   },
   {
    "duration": 22,
    "start_time": "2022-06-02T14:14:59.813Z"
   },
   {
    "duration": 5,
    "start_time": "2022-06-02T14:15:44.637Z"
   },
   {
    "duration": 44,
    "start_time": "2022-06-02T14:15:49.060Z"
   },
   {
    "duration": 20,
    "start_time": "2022-06-02T14:15:51.830Z"
   },
   {
    "duration": 907,
    "start_time": "2022-06-02T14:17:30.279Z"
   },
   {
    "duration": 4,
    "start_time": "2022-06-02T14:17:46.333Z"
   },
   {
    "duration": 823,
    "start_time": "2022-06-02T14:17:52.578Z"
   },
   {
    "duration": 930,
    "start_time": "2022-06-02T14:18:01.551Z"
   },
   {
    "duration": 174,
    "start_time": "2022-06-02T14:21:55.631Z"
   },
   {
    "duration": 33,
    "start_time": "2022-06-02T14:23:11.723Z"
   },
   {
    "duration": 247,
    "start_time": "2022-06-02T14:28:14.250Z"
   },
   {
    "duration": 48,
    "start_time": "2022-06-02T14:32:09.922Z"
   },
   {
    "duration": 11,
    "start_time": "2022-06-02T14:36:50.362Z"
   },
   {
    "duration": 21,
    "start_time": "2022-06-02T14:36:54.699Z"
   },
   {
    "duration": 2028,
    "start_time": "2022-06-02T14:37:05.424Z"
   },
   {
    "duration": 62,
    "start_time": "2022-06-02T14:37:07.454Z"
   },
   {
    "duration": 14,
    "start_time": "2022-06-02T14:37:07.520Z"
   },
   {
    "duration": 5,
    "start_time": "2022-06-02T14:37:07.535Z"
   },
   {
    "duration": 288,
    "start_time": "2022-06-02T14:37:07.541Z"
   },
   {
    "duration": 6,
    "start_time": "2022-06-02T14:37:07.831Z"
   },
   {
    "duration": 298,
    "start_time": "2022-06-02T14:37:07.839Z"
   },
   {
    "duration": 247,
    "start_time": "2022-06-02T14:37:08.139Z"
   },
   {
    "duration": 8,
    "start_time": "2022-06-02T14:37:08.391Z"
   },
   {
    "duration": 168,
    "start_time": "2022-06-02T14:37:08.401Z"
   },
   {
    "duration": 185,
    "start_time": "2022-06-02T14:37:08.571Z"
   },
   {
    "duration": 0,
    "start_time": "2022-06-02T14:37:08.758Z"
   },
   {
    "duration": 0,
    "start_time": "2022-06-02T14:37:08.760Z"
   },
   {
    "duration": 0,
    "start_time": "2022-06-02T14:37:08.761Z"
   },
   {
    "duration": 63,
    "start_time": "2022-06-02T14:37:59.030Z"
   },
   {
    "duration": 1268,
    "start_time": "2022-06-02T14:39:40.156Z"
   },
   {
    "duration": 61,
    "start_time": "2022-06-02T14:39:41.426Z"
   },
   {
    "duration": 16,
    "start_time": "2022-06-02T14:39:41.489Z"
   },
   {
    "duration": 7,
    "start_time": "2022-06-02T14:39:41.507Z"
   },
   {
    "duration": 283,
    "start_time": "2022-06-02T14:39:41.516Z"
   },
   {
    "duration": 5,
    "start_time": "2022-06-02T14:39:41.801Z"
   },
   {
    "duration": 7,
    "start_time": "2022-06-02T14:39:41.807Z"
   },
   {
    "duration": 24,
    "start_time": "2022-06-02T14:39:41.815Z"
   },
   {
    "duration": 5,
    "start_time": "2022-06-02T14:39:41.840Z"
   },
   {
    "duration": 45,
    "start_time": "2022-06-02T14:39:41.848Z"
   },
   {
    "duration": 190,
    "start_time": "2022-06-02T14:39:41.898Z"
   },
   {
    "duration": 0,
    "start_time": "2022-06-02T14:39:42.097Z"
   },
   {
    "duration": 0,
    "start_time": "2022-06-02T14:39:42.098Z"
   },
   {
    "duration": 0,
    "start_time": "2022-06-02T14:39:42.099Z"
   },
   {
    "duration": 387,
    "start_time": "2022-06-02T14:39:59.894Z"
   },
   {
    "duration": 75,
    "start_time": "2022-06-02T14:40:36.075Z"
   },
   {
    "duration": 13,
    "start_time": "2022-06-02T14:41:33.139Z"
   },
   {
    "duration": 54,
    "start_time": "2022-06-02T14:41:34.925Z"
   },
   {
    "duration": 12,
    "start_time": "2022-06-02T14:41:53.366Z"
   },
   {
    "duration": 46,
    "start_time": "2022-06-02T14:42:08.108Z"
   },
   {
    "duration": 17,
    "start_time": "2022-06-02T14:42:09.531Z"
   },
   {
    "duration": 26,
    "start_time": "2022-06-02T14:42:10.835Z"
   },
   {
    "duration": 26,
    "start_time": "2022-06-02T14:42:14.763Z"
   },
   {
    "duration": 1234,
    "start_time": "2022-06-02T14:42:28.731Z"
   },
   {
    "duration": 78,
    "start_time": "2022-06-02T14:42:29.967Z"
   },
   {
    "duration": 14,
    "start_time": "2022-06-02T14:42:30.047Z"
   },
   {
    "duration": 5,
    "start_time": "2022-06-02T14:42:30.063Z"
   },
   {
    "duration": 285,
    "start_time": "2022-06-02T14:42:30.069Z"
   },
   {
    "duration": 6,
    "start_time": "2022-06-02T14:42:30.356Z"
   },
   {
    "duration": 296,
    "start_time": "2022-06-02T14:42:30.363Z"
   },
   {
    "duration": 253,
    "start_time": "2022-06-02T14:42:30.660Z"
   },
   {
    "duration": 6,
    "start_time": "2022-06-02T14:42:30.915Z"
   },
   {
    "duration": 187,
    "start_time": "2022-06-02T14:42:30.924Z"
   },
   {
    "duration": 44,
    "start_time": "2022-06-02T14:42:31.112Z"
   },
   {
    "duration": 40,
    "start_time": "2022-06-02T14:42:31.157Z"
   },
   {
    "duration": 1489,
    "start_time": "2022-06-02T14:42:31.199Z"
   },
   {
    "duration": 14,
    "start_time": "2022-06-02T14:42:32.691Z"
   },
   {
    "duration": 7608,
    "start_time": "2022-06-02T14:47:49.338Z"
   },
   {
    "duration": 970,
    "start_time": "2022-06-02T14:48:35.741Z"
   },
   {
    "duration": 7500,
    "start_time": "2022-06-02T14:48:54.553Z"
   },
   {
    "duration": 17980,
    "start_time": "2022-06-02T14:51:21.023Z"
   },
   {
    "duration": 101623,
    "start_time": "2022-06-02T14:51:56.267Z"
   },
   {
    "duration": 21722,
    "start_time": "2022-06-02T14:53:43.944Z"
   },
   {
    "duration": 41,
    "start_time": "2022-06-02T14:55:11.951Z"
   },
   {
    "duration": 1058,
    "start_time": "2022-06-02T14:55:40.023Z"
   },
   {
    "duration": 1307,
    "start_time": "2022-06-02T14:56:59.014Z"
   },
   {
    "duration": 1128,
    "start_time": "2022-06-02T14:57:08.173Z"
   },
   {
    "duration": 83,
    "start_time": "2022-06-02T14:57:09.303Z"
   },
   {
    "duration": 12,
    "start_time": "2022-06-02T14:57:09.387Z"
   },
   {
    "duration": 4,
    "start_time": "2022-06-02T14:57:09.400Z"
   },
   {
    "duration": 238,
    "start_time": "2022-06-02T14:57:09.406Z"
   },
   {
    "duration": 5,
    "start_time": "2022-06-02T14:57:09.646Z"
   },
   {
    "duration": 262,
    "start_time": "2022-06-02T14:57:09.652Z"
   },
   {
    "duration": 221,
    "start_time": "2022-06-02T14:57:09.915Z"
   },
   {
    "duration": 5,
    "start_time": "2022-06-02T14:57:10.138Z"
   },
   {
    "duration": 163,
    "start_time": "2022-06-02T14:57:10.145Z"
   },
   {
    "duration": 39,
    "start_time": "2022-06-02T14:57:10.310Z"
   },
   {
    "duration": 30,
    "start_time": "2022-06-02T14:57:10.351Z"
   },
   {
    "duration": 997,
    "start_time": "2022-06-02T14:57:10.383Z"
   },
   {
    "duration": 6789,
    "start_time": "2022-06-02T14:57:11.382Z"
   },
   {
    "duration": 18822,
    "start_time": "2022-06-02T14:57:18.172Z"
   },
   {
    "duration": 1254,
    "start_time": "2022-06-02T14:57:36.996Z"
   },
   {
    "duration": 357,
    "start_time": "2022-06-02T15:03:02.801Z"
   },
   {
    "duration": 207,
    "start_time": "2022-06-02T15:03:24.316Z"
   },
   {
    "duration": 1445,
    "start_time": "2022-06-03T06:07:00.280Z"
   },
   {
    "duration": 179,
    "start_time": "2022-06-03T06:07:01.728Z"
   },
   {
    "duration": 13,
    "start_time": "2022-06-03T06:07:01.909Z"
   },
   {
    "duration": 4,
    "start_time": "2022-06-03T06:07:01.924Z"
   },
   {
    "duration": 193,
    "start_time": "2022-06-03T06:07:01.930Z"
   },
   {
    "duration": 5,
    "start_time": "2022-06-03T06:07:02.125Z"
   },
   {
    "duration": 347,
    "start_time": "2022-06-03T06:07:02.132Z"
   },
   {
    "duration": 318,
    "start_time": "2022-06-03T06:07:02.481Z"
   },
   {
    "duration": 5,
    "start_time": "2022-06-03T06:07:02.800Z"
   },
   {
    "duration": 187,
    "start_time": "2022-06-03T06:07:02.806Z"
   },
   {
    "duration": 51,
    "start_time": "2022-06-03T06:07:02.995Z"
   },
   {
    "duration": 17,
    "start_time": "2022-06-03T06:07:03.047Z"
   },
   {
    "duration": 1363,
    "start_time": "2022-06-03T06:07:03.066Z"
   },
   {
    "duration": 7223,
    "start_time": "2022-06-03T06:07:04.433Z"
   },
   {
    "duration": 20600,
    "start_time": "2022-06-03T06:07:11.658Z"
   },
   {
    "duration": 1302,
    "start_time": "2022-06-03T06:07:32.259Z"
   },
   {
    "duration": 189,
    "start_time": "2022-06-03T06:07:33.562Z"
   },
   {
    "duration": 111,
    "start_time": "2022-06-03T06:07:33.752Z"
   },
   {
    "duration": 65,
    "start_time": "2022-06-03T10:26:57.750Z"
   },
   {
    "duration": 1506,
    "start_time": "2022-06-03T10:27:01.625Z"
   },
   {
    "duration": 102,
    "start_time": "2022-06-03T10:27:03.134Z"
   },
   {
    "duration": 17,
    "start_time": "2022-06-03T10:27:03.240Z"
   },
   {
    "duration": 5,
    "start_time": "2022-06-03T10:27:03.259Z"
   },
   {
    "duration": 16,
    "start_time": "2022-06-03T10:27:03.265Z"
   },
   {
    "duration": 188,
    "start_time": "2022-06-03T10:27:03.282Z"
   },
   {
    "duration": 6,
    "start_time": "2022-06-03T10:27:03.472Z"
   },
   {
    "duration": 292,
    "start_time": "2022-06-03T10:27:03.480Z"
   },
   {
    "duration": 206,
    "start_time": "2022-06-03T10:27:03.775Z"
   },
   {
    "duration": 6,
    "start_time": "2022-06-03T10:27:03.983Z"
   },
   {
    "duration": 171,
    "start_time": "2022-06-03T10:27:03.991Z"
   },
   {
    "duration": 49,
    "start_time": "2022-06-03T10:27:04.165Z"
   },
   {
    "duration": 29,
    "start_time": "2022-06-03T10:27:04.228Z"
   },
   {
    "duration": 1075,
    "start_time": "2022-06-03T10:27:04.259Z"
   },
   {
    "duration": 7584,
    "start_time": "2022-06-03T10:27:05.336Z"
   },
   {
    "duration": 23859,
    "start_time": "2022-06-03T10:27:12.925Z"
   },
   {
    "duration": 1539,
    "start_time": "2022-06-03T10:27:36.786Z"
   },
   {
    "duration": 222,
    "start_time": "2022-06-03T10:27:38.327Z"
   },
   {
    "duration": 151,
    "start_time": "2022-06-03T10:27:38.551Z"
   },
   {
    "duration": 125,
    "start_time": "2022-06-03T10:28:08.608Z"
   },
   {
    "duration": 11,
    "start_time": "2022-06-03T10:28:57.886Z"
   },
   {
    "duration": 6,
    "start_time": "2022-06-03T10:30:22.194Z"
   },
   {
    "duration": 13,
    "start_time": "2022-06-03T10:30:27.606Z"
   },
   {
    "duration": 16,
    "start_time": "2022-06-03T10:30:32.829Z"
   },
   {
    "duration": 12,
    "start_time": "2022-06-03T10:31:05.688Z"
   },
   {
    "duration": 15,
    "start_time": "2022-06-03T10:31:10.144Z"
   },
   {
    "duration": 4,
    "start_time": "2022-06-03T13:17:37.667Z"
   },
   {
    "duration": 6,
    "start_time": "2022-06-03T13:17:47.163Z"
   },
   {
    "duration": 11,
    "start_time": "2022-06-03T13:18:01.715Z"
   },
   {
    "duration": 11,
    "start_time": "2022-06-03T13:18:47.317Z"
   },
   {
    "duration": 5,
    "start_time": "2022-06-03T13:19:00.088Z"
   },
   {
    "duration": 5,
    "start_time": "2022-06-03T13:19:09.403Z"
   },
   {
    "duration": 6,
    "start_time": "2022-06-03T13:19:10.701Z"
   },
   {
    "duration": 70,
    "start_time": "2022-06-03T13:19:32.028Z"
   },
   {
    "duration": 4,
    "start_time": "2022-06-03T13:21:37.690Z"
   },
   {
    "duration": 210,
    "start_time": "2022-06-03T13:22:56.204Z"
   },
   {
    "duration": 1255,
    "start_time": "2022-06-03T13:23:09.055Z"
   },
   {
    "duration": 55,
    "start_time": "2022-06-03T13:23:10.312Z"
   },
   {
    "duration": 15,
    "start_time": "2022-06-03T13:23:10.369Z"
   },
   {
    "duration": 5,
    "start_time": "2022-06-03T13:23:10.387Z"
   },
   {
    "duration": 9,
    "start_time": "2022-06-03T13:23:10.395Z"
   },
   {
    "duration": 259,
    "start_time": "2022-06-03T13:23:10.405Z"
   },
   {
    "duration": 6,
    "start_time": "2022-06-03T13:23:10.666Z"
   },
   {
    "duration": 341,
    "start_time": "2022-06-03T13:23:10.674Z"
   },
   {
    "duration": 0,
    "start_time": "2022-06-03T13:23:11.018Z"
   },
   {
    "duration": 0,
    "start_time": "2022-06-03T13:23:11.019Z"
   },
   {
    "duration": 0,
    "start_time": "2022-06-03T13:23:11.026Z"
   },
   {
    "duration": 0,
    "start_time": "2022-06-03T13:23:11.027Z"
   },
   {
    "duration": 0,
    "start_time": "2022-06-03T13:23:11.028Z"
   },
   {
    "duration": 0,
    "start_time": "2022-06-03T13:23:11.029Z"
   },
   {
    "duration": 0,
    "start_time": "2022-06-03T13:23:11.030Z"
   },
   {
    "duration": 0,
    "start_time": "2022-06-03T13:23:11.031Z"
   },
   {
    "duration": 0,
    "start_time": "2022-06-03T13:23:11.032Z"
   },
   {
    "duration": 0,
    "start_time": "2022-06-03T13:23:11.034Z"
   },
   {
    "duration": 0,
    "start_time": "2022-06-03T13:23:11.036Z"
   },
   {
    "duration": 226,
    "start_time": "2022-06-03T13:24:00.247Z"
   },
   {
    "duration": 200,
    "start_time": "2022-06-03T13:24:11.695Z"
   },
   {
    "duration": 261,
    "start_time": "2022-06-03T13:24:28.113Z"
   },
   {
    "duration": 223,
    "start_time": "2022-06-03T13:24:45.751Z"
   },
   {
    "duration": 258,
    "start_time": "2022-06-03T13:24:58.511Z"
   },
   {
    "duration": 15,
    "start_time": "2022-06-03T13:26:03.025Z"
   },
   {
    "duration": 1253,
    "start_time": "2022-06-03T13:26:10.513Z"
   },
   {
    "duration": 54,
    "start_time": "2022-06-03T13:26:11.769Z"
   },
   {
    "duration": 15,
    "start_time": "2022-06-03T13:26:11.824Z"
   },
   {
    "duration": 11,
    "start_time": "2022-06-03T13:26:11.842Z"
   },
   {
    "duration": 11,
    "start_time": "2022-06-03T13:26:11.855Z"
   },
   {
    "duration": 261,
    "start_time": "2022-06-03T13:26:11.868Z"
   },
   {
    "duration": 6,
    "start_time": "2022-06-03T13:26:12.131Z"
   },
   {
    "duration": 129,
    "start_time": "2022-06-03T13:26:12.138Z"
   },
   {
    "duration": 0,
    "start_time": "2022-06-03T13:26:12.269Z"
   },
   {
    "duration": 0,
    "start_time": "2022-06-03T13:26:12.270Z"
   },
   {
    "duration": 0,
    "start_time": "2022-06-03T13:26:12.271Z"
   },
   {
    "duration": 0,
    "start_time": "2022-06-03T13:26:12.272Z"
   },
   {
    "duration": 0,
    "start_time": "2022-06-03T13:26:12.274Z"
   },
   {
    "duration": 0,
    "start_time": "2022-06-03T13:26:12.275Z"
   },
   {
    "duration": 0,
    "start_time": "2022-06-03T13:26:12.276Z"
   },
   {
    "duration": 0,
    "start_time": "2022-06-03T13:26:12.277Z"
   },
   {
    "duration": 0,
    "start_time": "2022-06-03T13:26:12.278Z"
   },
   {
    "duration": 0,
    "start_time": "2022-06-03T13:26:12.279Z"
   },
   {
    "duration": 0,
    "start_time": "2022-06-03T13:26:12.280Z"
   },
   {
    "duration": 0,
    "start_time": "2022-06-03T13:26:12.282Z"
   },
   {
    "duration": 4,
    "start_time": "2022-06-03T13:26:21.710Z"
   },
   {
    "duration": 12,
    "start_time": "2022-06-03T13:31:41.289Z"
   },
   {
    "duration": 15,
    "start_time": "2022-06-03T13:32:14.464Z"
   },
   {
    "duration": 11,
    "start_time": "2022-06-03T13:32:20.704Z"
   },
   {
    "duration": 23,
    "start_time": "2022-06-03T13:32:29.227Z"
   },
   {
    "duration": 1374,
    "start_time": "2022-06-03T13:32:43.688Z"
   },
   {
    "duration": 56,
    "start_time": "2022-06-03T13:32:45.065Z"
   },
   {
    "duration": 15,
    "start_time": "2022-06-03T13:32:45.123Z"
   },
   {
    "duration": 12,
    "start_time": "2022-06-03T13:32:45.141Z"
   },
   {
    "duration": 21,
    "start_time": "2022-06-03T13:32:45.155Z"
   },
   {
    "duration": 272,
    "start_time": "2022-06-03T13:32:45.178Z"
   },
   {
    "duration": 6,
    "start_time": "2022-06-03T13:32:45.452Z"
   },
   {
    "duration": 30,
    "start_time": "2022-06-03T13:32:45.460Z"
   },
   {
    "duration": 29,
    "start_time": "2022-06-03T13:32:45.492Z"
   },
   {
    "duration": 16,
    "start_time": "2022-06-03T13:32:45.523Z"
   },
   {
    "duration": 18,
    "start_time": "2022-06-03T13:32:45.541Z"
   },
   {
    "duration": 17,
    "start_time": "2022-06-03T13:32:45.561Z"
   },
   {
    "duration": 129,
    "start_time": "2022-06-03T13:32:45.580Z"
   },
   {
    "duration": 0,
    "start_time": "2022-06-03T13:32:45.712Z"
   },
   {
    "duration": 0,
    "start_time": "2022-06-03T13:32:45.714Z"
   },
   {
    "duration": 0,
    "start_time": "2022-06-03T13:32:45.715Z"
   },
   {
    "duration": 0,
    "start_time": "2022-06-03T13:32:45.726Z"
   },
   {
    "duration": 0,
    "start_time": "2022-06-03T13:32:45.727Z"
   },
   {
    "duration": 0,
    "start_time": "2022-06-03T13:32:45.728Z"
   },
   {
    "duration": 0,
    "start_time": "2022-06-03T13:32:45.730Z"
   },
   {
    "duration": 68,
    "start_time": "2022-06-03T13:34:59.538Z"
   },
   {
    "duration": 1281,
    "start_time": "2022-06-03T13:35:05.700Z"
   },
   {
    "duration": 61,
    "start_time": "2022-06-03T13:35:06.983Z"
   },
   {
    "duration": 15,
    "start_time": "2022-06-03T13:35:07.046Z"
   },
   {
    "duration": 13,
    "start_time": "2022-06-03T13:35:07.063Z"
   },
   {
    "duration": 10,
    "start_time": "2022-06-03T13:35:07.078Z"
   },
   {
    "duration": 285,
    "start_time": "2022-06-03T13:35:07.089Z"
   },
   {
    "duration": 6,
    "start_time": "2022-06-03T13:35:07.376Z"
   },
   {
    "duration": 7,
    "start_time": "2022-06-03T13:35:07.384Z"
   },
   {
    "duration": 27,
    "start_time": "2022-06-03T13:35:07.394Z"
   },
   {
    "duration": 11,
    "start_time": "2022-06-03T13:35:07.429Z"
   },
   {
    "duration": 169,
    "start_time": "2022-06-03T13:35:07.442Z"
   },
   {
    "duration": 0,
    "start_time": "2022-06-03T13:35:07.613Z"
   },
   {
    "duration": 0,
    "start_time": "2022-06-03T13:35:07.615Z"
   },
   {
    "duration": 0,
    "start_time": "2022-06-03T13:35:07.615Z"
   },
   {
    "duration": 0,
    "start_time": "2022-06-03T13:35:07.617Z"
   },
   {
    "duration": 0,
    "start_time": "2022-06-03T13:35:07.627Z"
   },
   {
    "duration": 0,
    "start_time": "2022-06-03T13:35:07.628Z"
   },
   {
    "duration": 0,
    "start_time": "2022-06-03T13:35:07.629Z"
   },
   {
    "duration": 0,
    "start_time": "2022-06-03T13:35:07.631Z"
   },
   {
    "duration": 0,
    "start_time": "2022-06-03T13:35:07.632Z"
   },
   {
    "duration": 17,
    "start_time": "2022-06-03T13:35:32.194Z"
   },
   {
    "duration": 6,
    "start_time": "2022-06-03T13:35:39.281Z"
   },
   {
    "duration": 20,
    "start_time": "2022-06-03T13:36:44.620Z"
   },
   {
    "duration": 47,
    "start_time": "2022-06-03T13:37:43.187Z"
   },
   {
    "duration": 13,
    "start_time": "2022-06-03T13:37:45.033Z"
   },
   {
    "duration": 16,
    "start_time": "2022-06-03T13:38:19.474Z"
   },
   {
    "duration": 6,
    "start_time": "2022-06-03T13:38:20.082Z"
   },
   {
    "duration": 6,
    "start_time": "2022-06-03T13:38:26.338Z"
   },
   {
    "duration": 43,
    "start_time": "2022-06-03T13:38:29.243Z"
   },
   {
    "duration": 13,
    "start_time": "2022-06-03T13:38:29.665Z"
   },
   {
    "duration": 192,
    "start_time": "2022-06-03T13:38:32.940Z"
   },
   {
    "duration": 2244,
    "start_time": "2022-06-03T13:38:33.993Z"
   },
   {
    "duration": 9582,
    "start_time": "2022-06-03T13:38:39.977Z"
   },
   {
    "duration": 559,
    "start_time": "2022-06-03T13:38:49.561Z"
   },
   {
    "duration": 10,
    "start_time": "2022-06-05T17:30:42.532Z"
   },
   {
    "duration": 18,
    "start_time": "2022-06-05T17:42:05.316Z"
   },
   {
    "duration": 11,
    "start_time": "2022-06-05T17:43:04.071Z"
   },
   {
    "duration": 6,
    "start_time": "2022-06-05T17:43:22.464Z"
   },
   {
    "duration": 7,
    "start_time": "2022-06-05T17:43:41.500Z"
   },
   {
    "duration": 20,
    "start_time": "2022-06-05T17:43:46.524Z"
   },
   {
    "duration": 6,
    "start_time": "2022-06-05T17:43:47.147Z"
   },
   {
    "duration": 16,
    "start_time": "2022-06-05T17:43:52.262Z"
   },
   {
    "duration": 15,
    "start_time": "2022-06-05T17:44:08.668Z"
   },
   {
    "duration": 7,
    "start_time": "2022-06-05T17:44:09.070Z"
   },
   {
    "duration": 12,
    "start_time": "2022-06-05T17:44:23.074Z"
   },
   {
    "duration": 8,
    "start_time": "2022-06-05T17:44:24.448Z"
   },
   {
    "duration": 1357,
    "start_time": "2022-06-05T17:44:35.823Z"
   },
   {
    "duration": 111,
    "start_time": "2022-06-05T17:44:37.182Z"
   },
   {
    "duration": 18,
    "start_time": "2022-06-05T17:44:37.294Z"
   },
   {
    "duration": 5,
    "start_time": "2022-06-05T17:44:37.314Z"
   },
   {
    "duration": 44,
    "start_time": "2022-06-05T17:44:37.322Z"
   },
   {
    "duration": 297,
    "start_time": "2022-06-05T17:44:37.368Z"
   },
   {
    "duration": 6,
    "start_time": "2022-06-05T17:44:37.667Z"
   },
   {
    "duration": 51,
    "start_time": "2022-06-05T17:44:37.674Z"
   },
   {
    "duration": 29,
    "start_time": "2022-06-05T17:44:37.728Z"
   },
   {
    "duration": 129,
    "start_time": "2022-06-05T17:44:37.758Z"
   },
   {
    "duration": 0,
    "start_time": "2022-06-05T17:44:37.889Z"
   },
   {
    "duration": 0,
    "start_time": "2022-06-05T17:44:37.890Z"
   },
   {
    "duration": 0,
    "start_time": "2022-06-05T17:44:37.892Z"
   },
   {
    "duration": 0,
    "start_time": "2022-06-05T17:44:37.893Z"
   },
   {
    "duration": 0,
    "start_time": "2022-06-05T17:44:37.894Z"
   },
   {
    "duration": 0,
    "start_time": "2022-06-05T17:44:37.895Z"
   },
   {
    "duration": 0,
    "start_time": "2022-06-05T17:44:37.896Z"
   },
   {
    "duration": 0,
    "start_time": "2022-06-05T17:44:37.897Z"
   },
   {
    "duration": 0,
    "start_time": "2022-06-05T17:44:37.898Z"
   },
   {
    "duration": 0,
    "start_time": "2022-06-05T17:44:37.899Z"
   },
   {
    "duration": 0,
    "start_time": "2022-06-05T17:44:37.900Z"
   },
   {
    "duration": 0,
    "start_time": "2022-06-05T17:44:37.901Z"
   },
   {
    "duration": 27,
    "start_time": "2022-06-05T17:44:59.279Z"
   },
   {
    "duration": 28,
    "start_time": "2022-06-05T17:45:03.021Z"
   },
   {
    "duration": 11,
    "start_time": "2022-06-05T17:45:21.669Z"
   },
   {
    "duration": 24,
    "start_time": "2022-06-05T17:45:35.691Z"
   },
   {
    "duration": 6,
    "start_time": "2022-06-05T17:45:36.314Z"
   },
   {
    "duration": 57,
    "start_time": "2022-06-05T17:45:51.258Z"
   },
   {
    "duration": 18,
    "start_time": "2022-06-05T17:45:52.024Z"
   },
   {
    "duration": 75,
    "start_time": "2022-06-05T17:45:56.256Z"
   },
   {
    "duration": 2320,
    "start_time": "2022-06-05T17:45:57.455Z"
   },
   {
    "duration": 9913,
    "start_time": "2022-06-05T17:46:02.669Z"
   },
   {
    "duration": 603,
    "start_time": "2022-06-05T17:46:16.842Z"
   },
   {
    "duration": 13,
    "start_time": "2022-06-05T17:46:29.141Z"
   },
   {
    "duration": 6,
    "start_time": "2022-06-05T17:46:32.166Z"
   },
   {
    "duration": 27,
    "start_time": "2022-06-05T17:47:28.440Z"
   },
   {
    "duration": 97,
    "start_time": "2022-06-05T17:48:56.831Z"
   },
   {
    "duration": 1006,
    "start_time": "2022-06-05T17:49:48.796Z"
   },
   {
    "duration": 7445,
    "start_time": "2022-06-05T17:50:03.842Z"
   },
   {
    "duration": 1335,
    "start_time": "2022-06-05T17:50:30.096Z"
   },
   {
    "duration": 1433,
    "start_time": "2022-06-05T17:50:34.476Z"
   },
   {
    "duration": 3188,
    "start_time": "2022-06-05T17:50:53.644Z"
   },
   {
    "duration": 2173,
    "start_time": "2022-06-05T17:51:33.964Z"
   },
   {
    "duration": 3882,
    "start_time": "2022-06-05T17:52:23.571Z"
   },
   {
    "duration": 1247,
    "start_time": "2022-06-05T17:52:40.446Z"
   },
   {
    "duration": 62,
    "start_time": "2022-06-05T17:52:41.695Z"
   },
   {
    "duration": 13,
    "start_time": "2022-06-05T17:52:41.758Z"
   },
   {
    "duration": 5,
    "start_time": "2022-06-05T17:52:41.773Z"
   },
   {
    "duration": 3,
    "start_time": "2022-06-05T17:52:41.780Z"
   },
   {
    "duration": 280,
    "start_time": "2022-06-05T17:52:41.785Z"
   },
   {
    "duration": 6,
    "start_time": "2022-06-05T17:52:42.066Z"
   },
   {
    "duration": 47,
    "start_time": "2022-06-05T17:52:42.074Z"
   },
   {
    "duration": 27,
    "start_time": "2022-06-05T17:52:42.124Z"
   },
   {
    "duration": 13,
    "start_time": "2022-06-05T17:52:42.153Z"
   },
   {
    "duration": 18,
    "start_time": "2022-06-05T17:52:42.168Z"
   },
   {
    "duration": 13,
    "start_time": "2022-06-05T17:52:42.188Z"
   },
   {
    "duration": 57,
    "start_time": "2022-06-05T17:52:42.202Z"
   },
   {
    "duration": 71,
    "start_time": "2022-06-05T17:52:42.262Z"
   },
   {
    "duration": 2346,
    "start_time": "2022-06-05T17:52:42.335Z"
   },
   {
    "duration": 9658,
    "start_time": "2022-06-05T17:52:44.683Z"
   },
   {
    "duration": 632,
    "start_time": "2022-06-05T17:52:54.344Z"
   },
   {
    "duration": 14,
    "start_time": "2022-06-05T17:52:54.977Z"
   },
   {
    "duration": 46,
    "start_time": "2022-06-05T17:52:54.992Z"
   },
   {
    "duration": 52,
    "start_time": "2022-06-05T17:52:55.040Z"
   },
   {
    "duration": 36,
    "start_time": "2022-06-05T17:52:55.093Z"
   },
   {
    "duration": 1534,
    "start_time": "2022-06-05T17:52:55.132Z"
   },
   {
    "duration": 3823,
    "start_time": "2022-06-05T17:52:56.668Z"
   },
   {
    "duration": 138,
    "start_time": "2022-06-05T17:53:00.493Z"
   },
   {
    "duration": 0,
    "start_time": "2022-06-05T17:53:00.633Z"
   },
   {
    "duration": 21,
    "start_time": "2022-06-05T18:03:35.339Z"
   },
   {
    "duration": 28,
    "start_time": "2022-06-05T18:03:49.212Z"
   },
   {
    "duration": 31,
    "start_time": "2022-06-05T18:03:57.343Z"
   },
   {
    "duration": 234,
    "start_time": "2022-06-05T18:04:08.942Z"
   },
   {
    "duration": 245,
    "start_time": "2022-06-05T18:04:22.595Z"
   },
   {
    "duration": 555,
    "start_time": "2022-06-05T18:04:29.065Z"
   },
   {
    "duration": 3733,
    "start_time": "2022-06-05T18:04:34.043Z"
   },
   {
    "duration": 1670,
    "start_time": "2022-06-05T18:04:43.403Z"
   },
   {
    "duration": 511,
    "start_time": "2022-06-05T18:04:50.439Z"
   },
   {
    "duration": 18,
    "start_time": "2022-06-05T18:05:29.806Z"
   },
   {
    "duration": 218,
    "start_time": "2022-06-05T18:05:36.205Z"
   },
   {
    "duration": 3712,
    "start_time": "2022-06-05T18:05:43.487Z"
   },
   {
    "duration": 3592,
    "start_time": "2022-06-05T18:06:00.188Z"
   },
   {
    "duration": 3502,
    "start_time": "2022-06-05T18:06:16.768Z"
   },
   {
    "duration": 28,
    "start_time": "2022-06-05T18:06:26.817Z"
   },
   {
    "duration": 3518,
    "start_time": "2022-06-05T18:06:30.920Z"
   },
   {
    "duration": 4134,
    "start_time": "2022-06-05T18:06:38.682Z"
   },
   {
    "duration": 3353,
    "start_time": "2022-06-05T18:06:55.742Z"
   },
   {
    "duration": 1578,
    "start_time": "2022-06-05T18:08:02.326Z"
   },
   {
    "duration": 75,
    "start_time": "2022-06-05T18:08:03.906Z"
   },
   {
    "duration": 13,
    "start_time": "2022-06-05T18:08:03.983Z"
   },
   {
    "duration": 8,
    "start_time": "2022-06-05T18:08:03.998Z"
   },
   {
    "duration": 6,
    "start_time": "2022-06-05T18:08:04.007Z"
   },
   {
    "duration": 302,
    "start_time": "2022-06-05T18:08:04.014Z"
   },
   {
    "duration": 15,
    "start_time": "2022-06-05T18:08:04.318Z"
   },
   {
    "duration": 23,
    "start_time": "2022-06-05T18:08:04.335Z"
   },
   {
    "duration": 17,
    "start_time": "2022-06-05T18:08:04.360Z"
   },
   {
    "duration": 14,
    "start_time": "2022-06-05T18:08:04.381Z"
   },
   {
    "duration": 20,
    "start_time": "2022-06-05T18:08:04.397Z"
   },
   {
    "duration": 55,
    "start_time": "2022-06-05T18:08:04.427Z"
   },
   {
    "duration": 73,
    "start_time": "2022-06-05T18:08:04.484Z"
   },
   {
    "duration": 74,
    "start_time": "2022-06-05T18:08:04.559Z"
   },
   {
    "duration": 2452,
    "start_time": "2022-06-05T18:08:04.635Z"
   },
   {
    "duration": 9663,
    "start_time": "2022-06-05T18:08:07.089Z"
   },
   {
    "duration": 566,
    "start_time": "2022-06-05T18:08:16.754Z"
   },
   {
    "duration": 549,
    "start_time": "2022-06-05T18:08:17.330Z"
   },
   {
    "duration": 12,
    "start_time": "2022-06-05T18:08:17.881Z"
   },
   {
    "duration": 15,
    "start_time": "2022-06-05T18:08:17.894Z"
   },
   {
    "duration": 37,
    "start_time": "2022-06-05T18:08:17.911Z"
   },
   {
    "duration": 93,
    "start_time": "2022-06-05T18:08:17.950Z"
   },
   {
    "duration": 1582,
    "start_time": "2022-06-05T18:08:18.052Z"
   },
   {
    "duration": 3582,
    "start_time": "2022-06-05T18:08:19.640Z"
   },
   {
    "duration": 245,
    "start_time": "2022-06-05T18:08:23.225Z"
   },
   {
    "duration": 127,
    "start_time": "2022-06-05T18:08:23.472Z"
   },
   {
    "duration": 0,
    "start_time": "2022-06-05T18:08:23.600Z"
   },
   {
    "duration": 52,
    "start_time": "2022-06-05T18:08:58.957Z"
   },
   {
    "duration": 129,
    "start_time": "2022-06-05T18:09:05.258Z"
   },
   {
    "duration": 1293,
    "start_time": "2022-06-05T18:09:11.180Z"
   },
   {
    "duration": 80,
    "start_time": "2022-06-05T18:09:12.476Z"
   },
   {
    "duration": 16,
    "start_time": "2022-06-05T18:09:12.561Z"
   },
   {
    "duration": 5,
    "start_time": "2022-06-05T18:09:12.579Z"
   },
   {
    "duration": 8,
    "start_time": "2022-06-05T18:09:12.586Z"
   },
   {
    "duration": 318,
    "start_time": "2022-06-05T18:09:12.596Z"
   },
   {
    "duration": 17,
    "start_time": "2022-06-05T18:09:12.916Z"
   },
   {
    "duration": 32,
    "start_time": "2022-06-05T18:09:12.934Z"
   },
   {
    "duration": 25,
    "start_time": "2022-06-05T18:09:12.968Z"
   },
   {
    "duration": 10,
    "start_time": "2022-06-05T18:09:12.997Z"
   },
   {
    "duration": 22,
    "start_time": "2022-06-05T18:09:13.008Z"
   },
   {
    "duration": 17,
    "start_time": "2022-06-05T18:09:13.035Z"
   },
   {
    "duration": 49,
    "start_time": "2022-06-05T18:09:13.054Z"
   },
   {
    "duration": 136,
    "start_time": "2022-06-05T18:09:13.105Z"
   },
   {
    "duration": 2480,
    "start_time": "2022-06-05T18:09:13.242Z"
   },
   {
    "duration": 10704,
    "start_time": "2022-06-05T18:09:15.729Z"
   },
   {
    "duration": 632,
    "start_time": "2022-06-05T18:09:26.435Z"
   },
   {
    "duration": 648,
    "start_time": "2022-06-05T18:09:27.069Z"
   },
   {
    "duration": 22,
    "start_time": "2022-06-05T18:09:27.719Z"
   },
   {
    "duration": 50,
    "start_time": "2022-06-05T18:09:27.742Z"
   },
   {
    "duration": 43,
    "start_time": "2022-06-05T18:09:27.794Z"
   },
   {
    "duration": 216,
    "start_time": "2022-06-05T18:09:27.839Z"
   },
   {
    "duration": 1611,
    "start_time": "2022-06-05T18:09:28.061Z"
   },
   {
    "duration": 3902,
    "start_time": "2022-06-05T18:09:29.673Z"
   },
   {
    "duration": 236,
    "start_time": "2022-06-05T18:09:33.577Z"
   },
   {
    "duration": 65,
    "start_time": "2022-06-05T18:09:33.815Z"
   },
   {
    "duration": 156,
    "start_time": "2022-06-05T18:09:33.882Z"
   },
   {
    "duration": 7819,
    "start_time": "2022-06-05T18:11:23.192Z"
   },
   {
    "duration": 155,
    "start_time": "2022-06-05T18:12:54.970Z"
   },
   {
    "duration": 13,
    "start_time": "2022-06-05T18:13:56.286Z"
   },
   {
    "duration": 6,
    "start_time": "2022-06-05T18:13:56.744Z"
   },
   {
    "duration": 10,
    "start_time": "2022-06-05T18:14:05.475Z"
   },
   {
    "duration": 14,
    "start_time": "2022-06-05T18:14:08.050Z"
   },
   {
    "duration": 7,
    "start_time": "2022-06-05T18:14:08.775Z"
   },
   {
    "duration": 38,
    "start_time": "2022-06-05T18:14:15.741Z"
   },
   {
    "duration": 59,
    "start_time": "2022-06-05T18:14:19.173Z"
   },
   {
    "duration": 2339,
    "start_time": "2022-06-05T18:14:23.048Z"
   },
   {
    "duration": 2126,
    "start_time": "2022-06-05T18:14:34.344Z"
   },
   {
    "duration": 7813,
    "start_time": "2022-06-05T18:14:47.882Z"
   },
   {
    "duration": 13,
    "start_time": "2022-06-05T18:16:26.740Z"
   },
   {
    "duration": 13,
    "start_time": "2022-06-05T18:16:44.162Z"
   },
   {
    "duration": 6,
    "start_time": "2022-06-05T18:16:44.804Z"
   },
   {
    "duration": 175,
    "start_time": "2022-06-05T18:18:35.989Z"
   },
   {
    "duration": 179,
    "start_time": "2022-06-05T18:18:49.918Z"
   },
   {
    "duration": 183,
    "start_time": "2022-06-05T18:18:52.277Z"
   },
   {
    "duration": 1644,
    "start_time": "2022-06-05T18:18:57.855Z"
   },
   {
    "duration": 83,
    "start_time": "2022-06-05T18:18:59.502Z"
   },
   {
    "duration": 18,
    "start_time": "2022-06-05T18:18:59.588Z"
   },
   {
    "duration": 7,
    "start_time": "2022-06-05T18:18:59.608Z"
   },
   {
    "duration": 15,
    "start_time": "2022-06-05T18:18:59.618Z"
   },
   {
    "duration": 332,
    "start_time": "2022-06-05T18:18:59.635Z"
   },
   {
    "duration": 8,
    "start_time": "2022-06-05T18:18:59.970Z"
   },
   {
    "duration": 12,
    "start_time": "2022-06-05T18:18:59.980Z"
   },
   {
    "duration": 43,
    "start_time": "2022-06-05T18:18:59.995Z"
   },
   {
    "duration": 45,
    "start_time": "2022-06-05T18:19:00.046Z"
   },
   {
    "duration": 28,
    "start_time": "2022-06-05T18:19:00.094Z"
   },
   {
    "duration": 11,
    "start_time": "2022-06-05T18:19:00.131Z"
   },
   {
    "duration": 273,
    "start_time": "2022-06-05T18:19:00.144Z"
   },
   {
    "duration": 0,
    "start_time": "2022-06-05T18:19:00.420Z"
   },
   {
    "duration": 0,
    "start_time": "2022-06-05T18:19:00.429Z"
   },
   {
    "duration": 0,
    "start_time": "2022-06-05T18:19:00.430Z"
   },
   {
    "duration": 0,
    "start_time": "2022-06-05T18:19:00.431Z"
   },
   {
    "duration": 0,
    "start_time": "2022-06-05T18:19:00.433Z"
   },
   {
    "duration": 0,
    "start_time": "2022-06-05T18:19:00.437Z"
   },
   {
    "duration": 0,
    "start_time": "2022-06-05T18:19:00.438Z"
   },
   {
    "duration": 0,
    "start_time": "2022-06-05T18:19:00.440Z"
   },
   {
    "duration": 0,
    "start_time": "2022-06-05T18:19:00.442Z"
   },
   {
    "duration": 0,
    "start_time": "2022-06-05T18:19:00.443Z"
   },
   {
    "duration": 0,
    "start_time": "2022-06-05T18:19:00.444Z"
   },
   {
    "duration": 0,
    "start_time": "2022-06-05T18:19:00.446Z"
   },
   {
    "duration": 0,
    "start_time": "2022-06-05T18:19:00.448Z"
   },
   {
    "duration": 0,
    "start_time": "2022-06-05T18:19:00.450Z"
   },
   {
    "duration": 0,
    "start_time": "2022-06-05T18:19:00.452Z"
   },
   {
    "duration": 73,
    "start_time": "2022-06-05T18:19:49.882Z"
   },
   {
    "duration": 117,
    "start_time": "2022-06-05T18:19:51.637Z"
   },
   {
    "duration": 2579,
    "start_time": "2022-06-05T18:19:55.502Z"
   },
   {
    "duration": 4113,
    "start_time": "2022-06-05T18:20:11.859Z"
   },
   {
    "duration": 4448,
    "start_time": "2022-06-05T18:20:35.965Z"
   },
   {
    "duration": 710,
    "start_time": "2022-06-05T18:20:42.672Z"
   },
   {
    "duration": 548,
    "start_time": "2022-06-05T18:21:27.968Z"
   },
   {
    "duration": 534,
    "start_time": "2022-06-05T18:21:33.642Z"
   },
   {
    "duration": 531,
    "start_time": "2022-06-05T18:21:37.680Z"
   },
   {
    "duration": 576,
    "start_time": "2022-06-05T18:21:42.904Z"
   },
   {
    "duration": 15,
    "start_time": "2022-06-05T18:21:49.025Z"
   },
   {
    "duration": 14,
    "start_time": "2022-06-05T18:21:49.948Z"
   },
   {
    "duration": 8,
    "start_time": "2022-06-05T18:21:50.823Z"
   },
   {
    "duration": 25,
    "start_time": "2022-06-05T18:21:51.663Z"
   },
   {
    "duration": 17,
    "start_time": "2022-06-05T18:21:52.384Z"
   },
   {
    "duration": 118,
    "start_time": "2022-06-05T18:22:00.821Z"
   },
   {
    "duration": 100,
    "start_time": "2022-06-05T18:22:10.453Z"
   },
   {
    "duration": 88,
    "start_time": "2022-06-05T18:22:16.443Z"
   },
   {
    "duration": 1365,
    "start_time": "2022-06-05T18:22:25.543Z"
   },
   {
    "duration": 2890,
    "start_time": "2022-06-05T18:22:54.156Z"
   },
   {
    "duration": 5846,
    "start_time": "2022-06-05T18:23:08.216Z"
   },
   {
    "duration": 3184,
    "start_time": "2022-06-05T18:23:21.961Z"
   },
   {
    "duration": 4142,
    "start_time": "2022-06-05T18:23:35.163Z"
   },
   {
    "duration": 223,
    "start_time": "2022-06-05T18:23:43.492Z"
   },
   {
    "duration": 53,
    "start_time": "2022-06-05T18:23:52.740Z"
   },
   {
    "duration": 22,
    "start_time": "2022-06-05T18:23:54.517Z"
   },
   {
    "duration": 199,
    "start_time": "2022-06-05T18:24:04.702Z"
   },
   {
    "duration": 1665,
    "start_time": "2022-06-05T18:24:11.953Z"
   },
   {
    "duration": 76,
    "start_time": "2022-06-05T18:24:13.620Z"
   },
   {
    "duration": 14,
    "start_time": "2022-06-05T18:24:13.698Z"
   },
   {
    "duration": 5,
    "start_time": "2022-06-05T18:24:13.715Z"
   },
   {
    "duration": 24,
    "start_time": "2022-06-05T18:24:13.722Z"
   },
   {
    "duration": 259,
    "start_time": "2022-06-05T18:24:13.748Z"
   },
   {
    "duration": 7,
    "start_time": "2022-06-05T18:24:14.008Z"
   },
   {
    "duration": 12,
    "start_time": "2022-06-05T18:24:14.027Z"
   },
   {
    "duration": 19,
    "start_time": "2022-06-05T18:24:14.046Z"
   },
   {
    "duration": 12,
    "start_time": "2022-06-05T18:24:14.068Z"
   },
   {
    "duration": 14,
    "start_time": "2022-06-05T18:24:14.082Z"
   },
   {
    "duration": 5,
    "start_time": "2022-06-05T18:24:14.098Z"
   },
   {
    "duration": 64,
    "start_time": "2022-06-05T18:24:14.126Z"
   },
   {
    "duration": 56,
    "start_time": "2022-06-05T18:24:14.191Z"
   },
   {
    "duration": 3535,
    "start_time": "2022-06-05T18:24:14.250Z"
   },
   {
    "duration": 4110,
    "start_time": "2022-06-05T18:24:17.787Z"
   },
   {
    "duration": 679,
    "start_time": "2022-06-05T18:24:21.899Z"
   },
   {
    "duration": 575,
    "start_time": "2022-06-05T18:24:22.579Z"
   },
   {
    "duration": 10,
    "start_time": "2022-06-05T18:24:23.156Z"
   },
   {
    "duration": 17,
    "start_time": "2022-06-05T18:24:23.168Z"
   },
   {
    "duration": 27,
    "start_time": "2022-06-05T18:24:23.186Z"
   },
   {
    "duration": 53,
    "start_time": "2022-06-05T18:24:23.214Z"
   },
   {
    "duration": 78,
    "start_time": "2022-06-05T18:24:23.269Z"
   },
   {
    "duration": 1833,
    "start_time": "2022-06-05T18:24:23.349Z"
   },
   {
    "duration": 4272,
    "start_time": "2022-06-05T18:24:25.185Z"
   },
   {
    "duration": 229,
    "start_time": "2022-06-05T18:24:29.461Z"
   },
   {
    "duration": 91,
    "start_time": "2022-06-05T18:24:29.692Z"
   },
   {
    "duration": 140,
    "start_time": "2022-06-05T18:24:29.787Z"
   },
   {
    "duration": 8786,
    "start_time": "2022-06-05T18:25:16.581Z"
   },
   {
    "duration": 420,
    "start_time": "2022-06-05T18:25:58.872Z"
   },
   {
    "duration": 609,
    "start_time": "2022-06-05T18:26:05.046Z"
   },
   {
    "duration": 3794,
    "start_time": "2022-06-05T18:28:47.928Z"
   },
   {
    "duration": 34,
    "start_time": "2022-06-05T18:29:25.366Z"
   }
  ],
  "kernelspec": {
   "display_name": "Python 3 (ipykernel)",
   "language": "python",
   "name": "python3"
  },
  "language_info": {
   "codemirror_mode": {
    "name": "ipython",
    "version": 3
   },
   "file_extension": ".py",
   "mimetype": "text/x-python",
   "name": "python",
   "nbconvert_exporter": "python",
   "pygments_lexer": "ipython3",
   "version": "3.9.5"
  },
  "toc": {
   "base_numbering": 1,
   "nav_menu": {},
   "number_sections": true,
   "sideBar": true,
   "skip_h1_title": true,
   "title_cell": "Содержание",
   "title_sidebar": "Contents",
   "toc_cell": true,
   "toc_position": {
    "height": "calc(100% - 180px)",
    "left": "10px",
    "top": "150px",
    "width": "165px"
   },
   "toc_section_display": true,
   "toc_window_display": true
  }
 },
 "nbformat": 4,
 "nbformat_minor": 2
}
